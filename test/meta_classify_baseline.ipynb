{
 "cells": [
  {
   "cell_type": "markdown",
   "metadata": {},
   "source": [
    "meta machine_learning baseline:\n",
    "\n",
    "1.针对二分类和多分类(后续加入回归)\n",
    "\n",
    "2.包含逻辑回归，决策树，随机森林，xgboost模型\n",
    "\n",
    "3.可根据需求自动调整超参数\n",
    "\n",
    "待改进：\n",
    "1.加入特征工程\n",
    "3.加入回归分析\n",
    "4.加入神经网络方法(tensorflow框架)"
   ]
  },
  {
   "cell_type": "markdown",
   "metadata": {},
   "source": [
    "以肿瘤病人预测为例"
   ]
  },
  {
   "cell_type": "code",
   "execution_count": 18,
   "metadata": {},
   "outputs": [],
   "source": [
    "import xgboost as xgb\n",
    "from sklearn.metrics import accuracy_score\n",
    "from sklearn import metrics"
   ]
  },
  {
   "cell_type": "code",
   "execution_count": 5,
   "metadata": {},
   "outputs": [],
   "source": [
    "import pandas as pd\n",
    "import numpy as np\n",
    "from sklearn.preprocessing import LabelEncoder\n",
    "from sklearn.model_selection import train_test_split"
   ]
  },
  {
   "cell_type": "markdown",
   "metadata": {},
   "source": [
    "## 数据处理"
   ]
  },
  {
   "cell_type": "code",
   "execution_count": 6,
   "metadata": {},
   "outputs": [
    {
     "data": {
      "text/html": [
       "<div>\n",
       "<style>\n",
       "    .dataframe thead tr:only-child th {\n",
       "        text-align: right;\n",
       "    }\n",
       "\n",
       "    .dataframe thead th {\n",
       "        text-align: left;\n",
       "    }\n",
       "\n",
       "    .dataframe tbody tr th {\n",
       "        vertical-align: top;\n",
       "    }\n",
       "</style>\n",
       "<table border=\"1\" class=\"dataframe\">\n",
       "  <thead>\n",
       "    <tr style=\"text-align: right;\">\n",
       "      <th></th>\n",
       "      <th>0</th>\n",
       "      <th>1</th>\n",
       "      <th>2</th>\n",
       "      <th>3</th>\n",
       "      <th>4</th>\n",
       "      <th>5</th>\n",
       "      <th>6</th>\n",
       "      <th>7</th>\n",
       "      <th>8</th>\n",
       "      <th>9</th>\n",
       "      <th>...</th>\n",
       "      <th>517</th>\n",
       "      <th>518</th>\n",
       "      <th>519</th>\n",
       "      <th>520</th>\n",
       "      <th>521</th>\n",
       "      <th>522</th>\n",
       "      <th>523</th>\n",
       "      <th>524</th>\n",
       "      <th>525</th>\n",
       "      <th>526</th>\n",
       "    </tr>\n",
       "  </thead>\n",
       "  <tbody>\n",
       "    <tr>\n",
       "      <th>0</th>\n",
       "      <td>Age</td>\n",
       "      <td>BMI</td>\n",
       "      <td>cohort</td>\n",
       "      <td>ID</td>\n",
       "      <td>Lachnospiraceae_bacterium_4_1_37FAA</td>\n",
       "      <td>Porphyromonas_uenonis</td>\n",
       "      <td>Prevotella_bivia</td>\n",
       "      <td>Escherichia_unclassified</td>\n",
       "      <td>Rothia_unclassified</td>\n",
       "      <td>Actinomyces_naeslundii</td>\n",
       "      <td>...</td>\n",
       "      <td>Adlercreutzia_equolifaciens</td>\n",
       "      <td>Bacteroides_pectinophilus</td>\n",
       "      <td>Streptococcus_gordonii</td>\n",
       "      <td>Eubacterium_ramulus</td>\n",
       "      <td>Prevotella_intermedia</td>\n",
       "      <td>Streptococcus_intermedius</td>\n",
       "      <td>Fusobacterium_gonidiaformans</td>\n",
       "      <td>Klebsiella_sp_MS_92_3</td>\n",
       "      <td>Bacteroides_sp_2_1_16</td>\n",
       "      <td>Alistipes_sp_HGB5</td>\n",
       "    </tr>\n",
       "    <tr>\n",
       "      <th>1</th>\n",
       "      <td>46</td>\n",
       "      <td>23.15</td>\n",
       "      <td>controls</td>\n",
       "      <td>531414</td>\n",
       "      <td>0.00000</td>\n",
       "      <td>0.00000</td>\n",
       "      <td>0.00000</td>\n",
       "      <td>0.00485</td>\n",
       "      <td>0.00000</td>\n",
       "      <td>0.00000</td>\n",
       "      <td>...</td>\n",
       "      <td>0.00000</td>\n",
       "      <td>0.00000</td>\n",
       "      <td>0.00000</td>\n",
       "      <td>0.09095</td>\n",
       "      <td>0.00000</td>\n",
       "      <td>0.00000</td>\n",
       "      <td>0.00000</td>\n",
       "      <td>0.00000</td>\n",
       "      <td>0</td>\n",
       "      <td>0.00000</td>\n",
       "    </tr>\n",
       "    <tr>\n",
       "      <th>2</th>\n",
       "      <td>68</td>\n",
       "      <td>22.2</td>\n",
       "      <td>controls</td>\n",
       "      <td>31333</td>\n",
       "      <td>0.00000</td>\n",
       "      <td>0.00000</td>\n",
       "      <td>0.00000</td>\n",
       "      <td>0.00368</td>\n",
       "      <td>0.00341</td>\n",
       "      <td>0.00000</td>\n",
       "      <td>...</td>\n",
       "      <td>0.00000</td>\n",
       "      <td>0.00000</td>\n",
       "      <td>0.00000</td>\n",
       "      <td>0.00043</td>\n",
       "      <td>0.00000</td>\n",
       "      <td>0.00000</td>\n",
       "      <td>0.00000</td>\n",
       "      <td>0.00000</td>\n",
       "      <td>0</td>\n",
       "      <td>0.00000</td>\n",
       "    </tr>\n",
       "    <tr>\n",
       "      <th>3</th>\n",
       "      <td>68</td>\n",
       "      <td>23.53</td>\n",
       "      <td>controls</td>\n",
       "      <td>532802</td>\n",
       "      <td>0.00000</td>\n",
       "      <td>0.00000</td>\n",
       "      <td>0.00000</td>\n",
       "      <td>0.05959</td>\n",
       "      <td>0.00000</td>\n",
       "      <td>0.00000</td>\n",
       "      <td>...</td>\n",
       "      <td>0.00000</td>\n",
       "      <td>0.00000</td>\n",
       "      <td>0.00000</td>\n",
       "      <td>0.05034</td>\n",
       "      <td>0.00000</td>\n",
       "      <td>0.00000</td>\n",
       "      <td>0.00000</td>\n",
       "      <td>0.00000</td>\n",
       "      <td>0</td>\n",
       "      <td>0.00000</td>\n",
       "    </tr>\n",
       "    <tr>\n",
       "      <th>4</th>\n",
       "      <td>68</td>\n",
       "      <td>21.7</td>\n",
       "      <td>controls</td>\n",
       "      <td>31300</td>\n",
       "      <td>0.00000</td>\n",
       "      <td>0.00000</td>\n",
       "      <td>0.00000</td>\n",
       "      <td>0.00000</td>\n",
       "      <td>0.00000</td>\n",
       "      <td>0.00000</td>\n",
       "      <td>...</td>\n",
       "      <td>0.25715</td>\n",
       "      <td>19.33382</td>\n",
       "      <td>0.00000</td>\n",
       "      <td>0.33503</td>\n",
       "      <td>0.00000</td>\n",
       "      <td>0.00000</td>\n",
       "      <td>0.00000</td>\n",
       "      <td>0.00000</td>\n",
       "      <td>0</td>\n",
       "      <td>0.00000</td>\n",
       "    </tr>\n",
       "  </tbody>\n",
       "</table>\n",
       "<p>5 rows × 527 columns</p>\n",
       "</div>"
      ],
      "text/plain": [
       "   0      1         2       3                                    4    \\\n",
       "0  Age    BMI    cohort      ID  Lachnospiraceae_bacterium_4_1_37FAA   \n",
       "1   46  23.15  controls  531414                              0.00000   \n",
       "2   68   22.2  controls   31333                              0.00000   \n",
       "3   68  23.53  controls  532802                              0.00000   \n",
       "4   68   21.7  controls   31300                              0.00000   \n",
       "\n",
       "                     5                 6                         7    \\\n",
       "0  Porphyromonas_uenonis  Prevotella_bivia  Escherichia_unclassified   \n",
       "1                0.00000           0.00000                   0.00485   \n",
       "2                0.00000           0.00000                   0.00368   \n",
       "3                0.00000           0.00000                   0.05959   \n",
       "4                0.00000           0.00000                   0.00000   \n",
       "\n",
       "                   8                       9          ...          \\\n",
       "0  Rothia_unclassified  Actinomyces_naeslundii        ...           \n",
       "1              0.00000                 0.00000        ...           \n",
       "2              0.00341                 0.00000        ...           \n",
       "3              0.00000                 0.00000        ...           \n",
       "4              0.00000                 0.00000        ...           \n",
       "\n",
       "                           517                        518  \\\n",
       "0  Adlercreutzia_equolifaciens  Bacteroides_pectinophilus   \n",
       "1                      0.00000                    0.00000   \n",
       "2                      0.00000                    0.00000   \n",
       "3                      0.00000                    0.00000   \n",
       "4                      0.25715                   19.33382   \n",
       "\n",
       "                      519                  520                    521  \\\n",
       "0  Streptococcus_gordonii  Eubacterium_ramulus  Prevotella_intermedia   \n",
       "1                 0.00000              0.09095                0.00000   \n",
       "2                 0.00000              0.00043                0.00000   \n",
       "3                 0.00000              0.05034                0.00000   \n",
       "4                 0.00000              0.33503                0.00000   \n",
       "\n",
       "                         522                           523  \\\n",
       "0  Streptococcus_intermedius  Fusobacterium_gonidiaformans   \n",
       "1                    0.00000                       0.00000   \n",
       "2                    0.00000                       0.00000   \n",
       "3                    0.00000                       0.00000   \n",
       "4                    0.00000                       0.00000   \n",
       "\n",
       "                     524                    525                526  \n",
       "0  Klebsiella_sp_MS_92_3  Bacteroides_sp_2_1_16  Alistipes_sp_HGB5  \n",
       "1                0.00000                      0            0.00000  \n",
       "2                0.00000                      0            0.00000  \n",
       "3                0.00000                      0            0.00000  \n",
       "4                0.00000                      0            0.00000  \n",
       "\n",
       "[5 rows x 527 columns]"
      ]
     },
     "execution_count": 6,
     "metadata": {},
     "output_type": "execute_result"
    }
   ],
   "source": [
    "data = pd.read_table(\"./austria.crc.crc_control.input.trans.profile.new2\",header=None)\n",
    "data1 = data.T\n",
    "data1.head()"
   ]
  },
  {
   "cell_type": "code",
   "execution_count": 7,
   "metadata": {},
   "outputs": [],
   "source": [
    "x_df=data1.loc[1:,3:].drop(3,axis=1)"
   ]
  },
  {
   "cell_type": "code",
   "execution_count": 8,
   "metadata": {},
   "outputs": [],
   "source": [
    "y_df=data1.loc[1:,2]"
   ]
  },
  {
   "cell_type": "code",
   "execution_count": 9,
   "metadata": {},
   "outputs": [],
   "source": [
    "labelencoder=LabelEncoder()"
   ]
  },
  {
   "cell_type": "code",
   "execution_count": 10,
   "metadata": {},
   "outputs": [],
   "source": [
    "y_hat=labelencoder.fit_transform(y_df)"
   ]
  },
  {
   "cell_type": "code",
   "execution_count": 11,
   "metadata": {},
   "outputs": [],
   "source": [
    "x_df=pd.DataFrame(x_df,dtype=np.float)"
   ]
  },
  {
   "cell_type": "code",
   "execution_count": 12,
   "metadata": {},
   "outputs": [],
   "source": [
    "X_train, X_test, y_train, y_test = train_test_split(x_df,y_hat,test_size=0.2,random_state=4)"
   ]
  },
  {
   "cell_type": "markdown",
   "metadata": {},
   "source": [
    "## 逻辑回归"
   ]
  },
  {
   "cell_type": "code",
   "execution_count": 13,
   "metadata": {},
   "outputs": [],
   "source": [
    "from sklearn.linear_model import LogisticRegression"
   ]
  },
  {
   "cell_type": "code",
   "execution_count": 14,
   "metadata": {},
   "outputs": [],
   "source": [
    "lr_model= LogisticRegression()"
   ]
  },
  {
   "cell_type": "code",
   "execution_count": 15,
   "metadata": {},
   "outputs": [
    {
     "data": {
      "text/plain": [
       "LogisticRegression(C=1.0, class_weight=None, dual=False, fit_intercept=True,\n",
       "          intercept_scaling=1, max_iter=100, multi_class='ovr', n_jobs=1,\n",
       "          penalty='l2', random_state=None, solver='liblinear', tol=0.0001,\n",
       "          verbose=0, warm_start=False)"
      ]
     },
     "execution_count": 15,
     "metadata": {},
     "output_type": "execute_result"
    }
   ],
   "source": [
    "lr_model.fit(X_train,y_train)"
   ]
  },
  {
   "cell_type": "code",
   "execution_count": 16,
   "metadata": {},
   "outputs": [],
   "source": [
    "#y_prob = lr_model.predict_proba(X_test)[:,1]\n",
    "y_prob = lr_model.predict_proba(X_test)"
   ]
  },
  {
   "cell_type": "code",
   "execution_count": 19,
   "metadata": {},
   "outputs": [],
   "source": [
    "#y_pred = np.where(y_prob > 0.5, 1, 0)\n",
    "y_pred = y_prob.argmax(axis=1)"
   ]
  },
  {
   "cell_type": "code",
   "execution_count": 21,
   "metadata": {},
   "outputs": [
    {
     "data": {
      "text/plain": [
       "1.0"
      ]
     },
     "execution_count": 21,
     "metadata": {},
     "output_type": "execute_result"
    }
   ],
   "source": [
    "lr_model.score(X_test, y_pred)"
   ]
  },
  {
   "cell_type": "code",
   "execution_count": 24,
   "metadata": {},
   "outputs": [
    {
     "name": "stdout",
     "output_type": "stream",
     "text": [
      "             precision    recall  f1-score   support\n",
      "\n",
      "          0       0.40      0.50      0.44         8\n",
      "          1       0.67      0.57      0.62        14\n",
      "\n",
      "avg / total       0.57      0.55      0.55        22\n",
      "\n",
      "0.5357142857142857\n",
      "log_loss: 2.55466598132505\n"
     ]
    }
   ],
   "source": [
    "print(metrics.classification_report(y_test,y_pred))\n",
    "print(metrics.roc_auc_score(y_test,y_pred))\n",
    "print(\"log_loss:\", metrics.log_loss(y_test, y_prob))  #评估多分类"
   ]
  },
  {
   "cell_type": "markdown",
   "metadata": {},
   "source": [
    "### 超参树调整"
   ]
  },
  {
   "cell_type": "code",
   "execution_count": 48,
   "metadata": {},
   "outputs": [],
   "source": [
    "from sklearn.linear_model import LogisticRegression\n",
    "from sklearn.model_selection import cross_val_score\n",
    "from sklearn import metrics\n",
    "\n",
    "lr_model2= LogisticRegression()\n",
    "\n",
    "tuned_parameters = {'C': [0.001, 0.01, 0.1, 1, 10, 100, 1000,10000] ,\n",
    "              'penalty':['l1','l2']\n",
    "                   }"
   ]
  },
  {
   "cell_type": "code",
   "execution_count": 49,
   "metadata": {},
   "outputs": [],
   "source": [
    "from sklearn.model_selection import GridSearchCV\n",
    "LR= GridSearchCV(lr_model2, tuned_parameters,cv=10)"
   ]
  },
  {
   "cell_type": "code",
   "execution_count": 50,
   "metadata": {},
   "outputs": [
    {
     "data": {
      "text/plain": [
       "GridSearchCV(cv=10, error_score='raise',\n",
       "       estimator=LogisticRegression(C=1.0, class_weight=None, dual=False, fit_intercept=True,\n",
       "          intercept_scaling=1, max_iter=100, multi_class='ovr', n_jobs=1,\n",
       "          penalty='l2', random_state=None, solver='liblinear', tol=0.0001,\n",
       "          verbose=0, warm_start=False),\n",
       "       fit_params=None, iid=True, n_jobs=1,\n",
       "       param_grid={'C': [0.001, 0.01, 0.1, 1, 10, 100, 1000, 10000], 'penalty': ['l1', 'l2']},\n",
       "       pre_dispatch='2*n_jobs', refit=True, return_train_score=True,\n",
       "       scoring=None, verbose=0)"
      ]
     },
     "execution_count": 50,
     "metadata": {},
     "output_type": "execute_result"
    }
   ],
   "source": [
    "LR.fit(X_train,y_train)"
   ]
  },
  {
   "cell_type": "code",
   "execution_count": 51,
   "metadata": {},
   "outputs": [
    {
     "name": "stdout",
     "output_type": "stream",
     "text": [
      "{'C': 100, 'penalty': 'l1'}\n"
     ]
    }
   ],
   "source": [
    "print(LR.best_params_)"
   ]
  },
  {
   "cell_type": "code",
   "execution_count": 52,
   "metadata": {},
   "outputs": [
    {
     "data": {
      "text/plain": [
       "1.0"
      ]
     },
     "execution_count": 52,
     "metadata": {},
     "output_type": "execute_result"
    }
   ],
   "source": [
    "y_prob = LR.predict_proba(X_test)\n",
    "# y_pred = np.where(y_prob > 0.5, 1, 0)\n",
    "y_pred = y_prob.argmax(axis=1)\n",
    "LR.score(X_test, y_pred)"
   ]
  },
  {
   "cell_type": "code",
   "execution_count": 25,
   "metadata": {},
   "outputs": [
    {
     "name": "stdout",
     "output_type": "stream",
     "text": [
      "             precision    recall  f1-score   support\n",
      "\n",
      "          0       0.40      0.50      0.44         8\n",
      "          1       0.67      0.57      0.62        14\n",
      "\n",
      "avg / total       0.57      0.55      0.55        22\n",
      "\n",
      "0.5357142857142857\n",
      "log_loss: 2.55466598132505\n"
     ]
    }
   ],
   "source": [
    "print(metrics.classification_report(y_test,y_pred))\n",
    "print(metrics.roc_auc_score(y_test,y_pred))\n",
    "print(\"log_loss:\", metrics.log_loss(y_test, y_prob))  #评估多分类"
   ]
  },
  {
   "cell_type": "markdown",
   "metadata": {},
   "source": [
    "## 决策树"
   ]
  },
  {
   "cell_type": "code",
   "execution_count": 25,
   "metadata": {},
   "outputs": [],
   "source": [
    "from sklearn.tree import DecisionTreeClassifier"
   ]
  },
  {
   "cell_type": "code",
   "execution_count": 26,
   "metadata": {},
   "outputs": [],
   "source": [
    "tree_model = DecisionTreeClassifier()"
   ]
  },
  {
   "cell_type": "code",
   "execution_count": 27,
   "metadata": {},
   "outputs": [
    {
     "data": {
      "text/plain": [
       "DecisionTreeClassifier(class_weight=None, criterion='gini', max_depth=None,\n",
       "            max_features=None, max_leaf_nodes=None,\n",
       "            min_impurity_decrease=0.0, min_impurity_split=None,\n",
       "            min_samples_leaf=1, min_samples_split=2,\n",
       "            min_weight_fraction_leaf=0.0, presort=False, random_state=None,\n",
       "            splitter='best')"
      ]
     },
     "execution_count": 27,
     "metadata": {},
     "output_type": "execute_result"
    }
   ],
   "source": [
    "tree_model.fit(X_train, y_train)"
   ]
  },
  {
   "cell_type": "code",
   "execution_count": 43,
   "metadata": {},
   "outputs": [
    {
     "name": "stdout",
     "output_type": "stream",
     "text": [
      "             precision    recall  f1-score   support\n",
      "\n",
      "          0       0.71      0.62      0.67         8\n",
      "          1       0.80      0.86      0.83        14\n",
      "\n",
      "avg / total       0.77      0.77      0.77        22\n",
      "\n",
      "0.7410714285714286\n"
     ]
    }
   ],
   "source": [
    "y_prob = tree_model.predict_proba(X_test)\n",
    "# y_pred = np.where(y_prob > 0.5, 1, 0)\n",
    "y_pred = y_prob.argmax(axis=1)\n",
    "tree_model.score(X_test, y_pred)\n",
    "print(metrics.classification_report(y_test,y_pred))\n",
    "metrics.roc_auc_score(y_test,y_pred)\n",
    "print(metrics.roc_auc_score(y_test,y_pred))\n",
    "print(\"log_loss:\", metrics.log_loss(y_test, y_prob))  #评估多分类"
   ]
  },
  {
   "cell_type": "markdown",
   "metadata": {},
   "source": [
    "### 超参数调整"
   ]
  },
  {
   "cell_type": "code",
   "execution_count": 30,
   "metadata": {},
   "outputs": [],
   "source": [
    "tree_model2 = DecisionTreeClassifier()\n",
    "tuned_parameters= { 'max_features': [\"auto\",\"sqrt\",\"log2\"],\n",
    "                  'min_samples_leaf': range(1,10,1) , 'max_depth': range(1,10,1)\n",
    "                  }"
   ]
  },
  {
   "cell_type": "code",
   "execution_count": 31,
   "metadata": {},
   "outputs": [],
   "source": [
    "TM = GridSearchCV(tree_model2, tuned_parameters,cv=10)"
   ]
  },
  {
   "cell_type": "code",
   "execution_count": 32,
   "metadata": {},
   "outputs": [
    {
     "data": {
      "text/plain": [
       "GridSearchCV(cv=10, error_score='raise',\n",
       "       estimator=DecisionTreeClassifier(class_weight=None, criterion='gini', max_depth=None,\n",
       "            max_features=None, max_leaf_nodes=None,\n",
       "            min_impurity_decrease=0.0, min_impurity_split=None,\n",
       "            min_samples_leaf=1, min_samples_split=2,\n",
       "            min_weight_fraction_leaf=0.0, presort=False, random_state=None,\n",
       "            splitter='best'),\n",
       "       fit_params=None, iid=True, n_jobs=1,\n",
       "       param_grid={'max_features': ['auto', 'sqrt', 'log2'], 'min_samples_leaf': range(1, 10), 'max_depth': range(1, 10)},\n",
       "       pre_dispatch='2*n_jobs', refit=True, return_train_score=True,\n",
       "       scoring=None, verbose=0)"
      ]
     },
     "execution_count": 32,
     "metadata": {},
     "output_type": "execute_result"
    }
   ],
   "source": [
    "TM.fit(X_train, y_train)"
   ]
  },
  {
   "cell_type": "code",
   "execution_count": 33,
   "metadata": {},
   "outputs": [
    {
     "name": "stdout",
     "output_type": "stream",
     "text": [
      "{'max_depth': 8, 'max_features': 'sqrt', 'min_samples_leaf': 3}\n"
     ]
    }
   ],
   "source": [
    "print(TM.best_params_)"
   ]
  },
  {
   "cell_type": "code",
   "execution_count": 45,
   "metadata": {},
   "outputs": [
    {
     "name": "stdout",
     "output_type": "stream",
     "text": [
      "             precision    recall  f1-score   support\n",
      "\n",
      "          0       0.67      1.00      0.80         8\n",
      "          1       1.00      0.71      0.83        14\n",
      "\n",
      "avg / total       0.88      0.82      0.82        22\n",
      "\n",
      "0.8571428571428572\n"
     ]
    }
   ],
   "source": [
    "y_prob = TM.predict_proba(X_test)\n",
    "# y_pred = np.where(y_prob > 0.5, 1, 0)\n",
    "y_pred = y_prob.argmax(axis=1)\n",
    "TM.score(X_test, y_pred)\n",
    "print(metrics.classification_report(y_test,y_pred))\n",
    "print(metrics.roc_auc_score(y_test,y_pred))\n",
    "print(\"log_loss:\", metrics.log_loss(y_test, y_prob))  #评估多分类"
   ]
  },
  {
   "cell_type": "markdown",
   "metadata": {},
   "source": [
    "## 随机森林"
   ]
  },
  {
   "cell_type": "code",
   "execution_count": 46,
   "metadata": {},
   "outputs": [
    {
     "name": "stderr",
     "output_type": "stream",
     "text": [
      "/Users/shizhiluo/anaconda2/envs/python3/lib/python3.6/site-packages/sklearn/ensemble/weight_boosting.py:29: DeprecationWarning: numpy.core.umath_tests is an internal NumPy module and should not be imported. It will be removed in a future NumPy release.\n",
      "  from numpy.core.umath_tests import inner1d\n"
     ]
    }
   ],
   "source": [
    "from sklearn.ensemble import RandomForestClassifier"
   ]
  },
  {
   "cell_type": "code",
   "execution_count": 47,
   "metadata": {},
   "outputs": [],
   "source": [
    "rr_model=RandomForestClassifier()"
   ]
  },
  {
   "cell_type": "code",
   "execution_count": 54,
   "metadata": {},
   "outputs": [
    {
     "data": {
      "text/plain": [
       "RandomForestClassifier(bootstrap=True, class_weight=None, criterion='gini',\n",
       "            max_depth=None, max_features='auto', max_leaf_nodes=None,\n",
       "            min_impurity_decrease=0.0, min_impurity_split=None,\n",
       "            min_samples_leaf=1, min_samples_split=2,\n",
       "            min_weight_fraction_leaf=0.0, n_estimators=10, n_jobs=1,\n",
       "            oob_score=False, random_state=None, verbose=0,\n",
       "            warm_start=False)"
      ]
     },
     "execution_count": 54,
     "metadata": {},
     "output_type": "execute_result"
    }
   ],
   "source": [
    "rr_model.fit(X_train,y_train)"
   ]
  },
  {
   "cell_type": "code",
   "execution_count": 56,
   "metadata": {},
   "outputs": [
    {
     "name": "stdout",
     "output_type": "stream",
     "text": [
      "             precision    recall  f1-score   support\n",
      "\n",
      "          0       0.75      0.75      0.75         8\n",
      "          1       0.86      0.86      0.86        14\n",
      "\n",
      "avg / total       0.82      0.82      0.82        22\n",
      "\n",
      "0.8035714285714285\n"
     ]
    }
   ],
   "source": [
    "y_prob = rr_model.predict_proba(X_test)  \n",
    "# y_pred = np.where(y_prob > 0.5, 1, 0) \n",
    "y_pred = y_prob.argmax(axis=1)\n",
    "rr_model.score(X_test, y_pred)\n",
    "print(metrics.classification_report(y_test,y_pred))\n",
    "print(metrics.roc_auc_score(y_test,y_pred))\n",
    "print(\"log_loss:\", metrics.log_loss(y_test, y_prob))  #评估多分类"
   ]
  },
  {
   "cell_type": "markdown",
   "metadata": {},
   "source": [
    "### 超参数调整"
   ]
  },
  {
   "cell_type": "code",
   "execution_count": 63,
   "metadata": {},
   "outputs": [],
   "source": [
    "RR = GridSearchCV(model_RR, tuned_parameters,cv=10)\n",
    "tuned_parameters = {'min_samples_leaf': range(10,100,10), 'n_estimators' : range(10,100,10),\n",
    "                    'max_features':['auto','sqrt','log2']\n",
    "                    }"
   ]
  },
  {
   "cell_type": "code",
   "execution_count": 65,
   "metadata": {},
   "outputs": [
    {
     "data": {
      "text/plain": [
       "GridSearchCV(cv=10, error_score='raise',\n",
       "       estimator=RandomForestClassifier(bootstrap=True, class_weight=None, criterion='gini',\n",
       "            max_depth=None, max_features='auto', max_leaf_nodes=None,\n",
       "            min_impurity_decrease=0.0, min_impurity_split=None,\n",
       "            min_samples_leaf=1, min_samples_split=2,\n",
       "            min_weight_fraction_leaf=0.0, n_estimators=10, n_jobs=1,\n",
       "            oob_score=False, random_state=None, verbose=0,\n",
       "            warm_start=False),\n",
       "       fit_params=None, iid=True, n_jobs=1,\n",
       "       param_grid={'min_samples_leaf': range(10, 100, 10), 'n_estimators': range(10, 100, 10), 'max_features': ['auto', 'sqrt', 'log2']},\n",
       "       pre_dispatch='2*n_jobs', refit=True, return_train_score=True,\n",
       "       scoring=None, verbose=0)"
      ]
     },
     "execution_count": 65,
     "metadata": {},
     "output_type": "execute_result"
    }
   ],
   "source": [
    "RR.fit(X_train,y_train)"
   ]
  },
  {
   "cell_type": "code",
   "execution_count": 66,
   "metadata": {},
   "outputs": [
    {
     "name": "stdout",
     "output_type": "stream",
     "text": [
      "             precision    recall  f1-score   support\n",
      "\n",
      "          0       0.60      0.75      0.67         8\n",
      "          1       0.83      0.71      0.77        14\n",
      "\n",
      "avg / total       0.75      0.73      0.73        22\n",
      "\n",
      "0.7321428571428572\n"
     ]
    }
   ],
   "source": [
    "y_prob = RR.predict_proba(X_test)\n",
    "# y_pred = np.where(y_prob > 0.5, 1, 0)\n",
    "y_pred = y_prob.argmax(axis=1)\n",
    "RR.score(X_test, y_pred)\n",
    "print(metrics.classification_report(y_test,y_pred))\n",
    "print(metrics.roc_auc_score(y_test,y_pred))\n",
    "print(\"log_loss:\", metrics.log_loss(y_test, y_prob))  #评估多分类"
   ]
  },
  {
   "cell_type": "markdown",
   "metadata": {},
   "source": [
    "## XGBoost"
   ]
  },
  {
   "cell_type": "code",
   "execution_count": null,
   "metadata": {},
   "outputs": [],
   "source": [
    "#from sklearn import preprocessing\n",
    "#lbl = preprocessing.LabelEncoder()\n",
    "#train_x['acc_id1'] = lbl.fit_transform(train_x['acc_id1'].astype(str))#将提示的包含错误数据类型这一列进行转换"
   ]
  },
  {
   "cell_type": "code",
   "execution_count": 27,
   "metadata": {},
   "outputs": [],
   "source": [
    "from xgboost import XGBClassifier\n",
    "XGB_model=XGBClassifier(objective='binary:logistic')  #二分类\n",
    "# XGB_model=XGBClassifier(objective= 'multi:softprob') # 多分类"
   ]
  },
  {
   "cell_type": "code",
   "execution_count": 14,
   "metadata": {},
   "outputs": [
    {
     "data": {
      "text/plain": [
       "XGBClassifier(base_score=0.5, booster='gbtree', colsample_bylevel=1,\n",
       "       colsample_bytree=1, gamma=0, learning_rate=0.1, max_delta_step=0,\n",
       "       max_depth=3, min_child_weight=1, missing=None, n_estimators=100,\n",
       "       n_jobs=1, nthread=None, objective='binary:logistic', random_state=0,\n",
       "       reg_alpha=0, reg_lambda=1, scale_pos_weight=1, seed=None,\n",
       "       silent=True, subsample=1)"
      ]
     },
     "execution_count": 14,
     "metadata": {},
     "output_type": "execute_result"
    }
   ],
   "source": [
    "XGB_model.fit(X_train,y_train)"
   ]
  },
  {
   "cell_type": "code",
   "execution_count": 15,
   "metadata": {},
   "outputs": [
    {
     "name": "stdout",
     "output_type": "stream",
     "text": [
      "             precision    recall  f1-score   support\n",
      "\n",
      "          0       0.71      0.62      0.67         8\n",
      "          1       0.80      0.86      0.83        14\n",
      "\n",
      "avg / total       0.77      0.77      0.77        22\n",
      "\n",
      "0.7410714285714286\n"
     ]
    },
    {
     "name": "stderr",
     "output_type": "stream",
     "text": [
      "/Users/shizhiluo/anaconda2/envs/python3/lib/python3.6/site-packages/sklearn/preprocessing/label.py:151: DeprecationWarning: The truth value of an empty array is ambiguous. Returning False, but in future this will result in an error. Use `array.size > 0` to check that an array is not empty.\n",
      "  if diff:\n"
     ]
    }
   ],
   "source": [
    "y_prob = XGB_model.predict_proba(X_test)\n",
    "y_pred = y_prob.argmax(axis=1)\n",
    "XGB_model.score(X_test, y_pred)\n",
    "print(metrics.classification_report(y_test,y_pred))\n",
    "print(metrics.roc_auc_score(y_test,y_pred))\n",
    "print(\"log_loss:\", metrics.log_loss(y_test, y_prob))  #评估多分类"
   ]
  },
  {
   "cell_type": "code",
   "execution_count": 16,
   "metadata": {},
   "outputs": [
    {
     "name": "stdout",
     "output_type": "stream",
     "text": [
      "[0.         0.         0.         0.         0.         0.\n",
      " 0.0285297  0.         0.         0.         0.         0.00524615\n",
      " 0.         0.         0.         0.         0.         0.\n",
      " 0.01947274 0.         0.         0.         0.         0.\n",
      " 0.         0.         0.         0.         0.         0.01237625\n",
      " 0.00628219 0.         0.         0.         0.         0.\n",
      " 0.         0.         0.         0.00274954 0.         0.\n",
      " 0.         0.         0.         0.0084788  0.         0.\n",
      " 0.00349184 0.         0.         0.         0.         0.\n",
      " 0.         0.         0.         0.         0.         0.\n",
      " 0.         0.         0.         0.         0.         0.\n",
      " 0.         0.         0.         0.         0.         0.\n",
      " 0.         0.         0.         0.         0.         0.\n",
      " 0.         0.         0.         0.         0.         0.03759316\n",
      " 0.         0.         0.         0.         0.         0.\n",
      " 0.         0.         0.         0.         0.         0.\n",
      " 0.         0.         0.         0.         0.         0.00712248\n",
      " 0.         0.         0.         0.         0.         0.\n",
      " 0.         0.         0.         0.         0.         0.\n",
      " 0.         0.         0.         0.         0.         0.\n",
      " 0.         0.01789715 0.         0.0040819  0.         0.\n",
      " 0.         0.         0.         0.         0.         0.\n",
      " 0.         0.         0.         0.         0.03201618 0.\n",
      " 0.         0.         0.02760276 0.         0.         0.\n",
      " 0.         0.01436509 0.04356159 0.         0.         0.\n",
      " 0.         0.         0.00519551 0.         0.         0.00925304\n",
      " 0.         0.         0.         0.         0.         0.\n",
      " 0.         0.         0.         0.         0.         0.\n",
      " 0.         0.         0.         0.         0.         0.\n",
      " 0.         0.         0.         0.         0.         0.\n",
      " 0.         0.         0.         0.         0.         0.\n",
      " 0.         0.         0.         0.         0.         0.\n",
      " 0.         0.         0.01011682 0.         0.         0.\n",
      " 0.         0.         0.         0.         0.         0.\n",
      " 0.00386776 0.         0.         0.         0.00275225 0.\n",
      " 0.         0.01118955 0.         0.         0.         0.\n",
      " 0.         0.00132549 0.         0.         0.         0.\n",
      " 0.         0.         0.         0.03308791 0.         0.\n",
      " 0.         0.         0.         0.         0.         0.\n",
      " 0.         0.         0.         0.         0.         0.\n",
      " 0.         0.01591424 0.         0.00250684 0.         0.\n",
      " 0.         0.         0.         0.         0.         0.\n",
      " 0.         0.         0.         0.         0.         0.\n",
      " 0.         0.         0.         0.         0.         0.\n",
      " 0.         0.02298482 0.         0.         0.         0.\n",
      " 0.         0.00151387 0.         0.         0.00219606 0.\n",
      " 0.         0.         0.         0.         0.         0.\n",
      " 0.         0.         0.         0.         0.         0.\n",
      " 0.         0.         0.         0.         0.01088598 0.\n",
      " 0.         0.         0.         0.         0.00916769 0.\n",
      " 0.         0.         0.         0.         0.         0.\n",
      " 0.         0.         0.         0.         0.         0.\n",
      " 0.         0.         0.         0.         0.11687651 0.\n",
      " 0.         0.         0.         0.         0.         0.\n",
      " 0.         0.         0.         0.         0.         0.\n",
      " 0.         0.         0.         0.00962295 0.         0.\n",
      " 0.         0.         0.         0.         0.         0.\n",
      " 0.         0.         0.         0.00873401 0.         0.\n",
      " 0.         0.         0.         0.         0.         0.\n",
      " 0.         0.         0.         0.         0.00704312 0.\n",
      " 0.         0.         0.02000446 0.         0.         0.\n",
      " 0.         0.         0.         0.         0.         0.\n",
      " 0.00769228 0.         0.         0.         0.         0.\n",
      " 0.         0.         0.         0.         0.         0.\n",
      " 0.         0.01052914 0.         0.         0.         0.\n",
      " 0.         0.02566922 0.         0.00309377 0.         0.\n",
      " 0.         0.         0.         0.03273491 0.         0.00915776\n",
      " 0.         0.         0.         0.         0.         0.\n",
      " 0.02985715 0.         0.         0.         0.         0.00738761\n",
      " 0.         0.         0.         0.         0.         0.\n",
      " 0.         0.         0.         0.         0.         0.\n",
      " 0.         0.         0.         0.         0.         0.\n",
      " 0.         0.         0.         0.         0.0078403  0.\n",
      " 0.         0.         0.00809816 0.         0.         0.\n",
      " 0.         0.         0.         0.         0.         0.\n",
      " 0.02217373 0.         0.         0.         0.         0.\n",
      " 0.01730037 0.         0.         0.         0.         0.\n",
      " 0.         0.         0.         0.         0.         0.\n",
      " 0.         0.         0.         0.         0.         0.02910753\n",
      " 0.         0.         0.         0.         0.         0.00123029\n",
      " 0.         0.         0.         0.         0.0027687  0.\n",
      " 0.         0.         0.         0.         0.11254164 0.\n",
      " 0.02216806 0.         0.         0.         0.         0.\n",
      " 0.         0.         0.         0.         0.         0.\n",
      " 0.         0.         0.         0.         0.         0.\n",
      " 0.         0.         0.         0.00374902 0.         0.07179386\n",
      " 0.         0.         0.         0.         0.         0.\n",
      " 0.        ]\n"
     ]
    }
   ],
   "source": [
    "print(model_XGB.feature_importances_)"
   ]
  },
  {
   "cell_type": "code",
   "execution_count": 17,
   "metadata": {},
   "outputs": [
    {
     "data": {
      "image/png": "[encoded data removed]",
      "text/plain": [
       "<matplotlib.figure.Figure at 0x10abae7b8>"
      ]
     },
     "metadata": {},
     "output_type": "display_data"
    }
   ],
   "source": [
    "# plot\n",
    "from matplotlib import pyplot\n",
    "pyplot.bar(range(len(XGB_model.feature_importances_)), XGB_model.feature_importances_)\n",
    "pyplot.show()"
   ]
  },
  {
   "cell_type": "code",
   "execution_count": 18,
   "metadata": {},
   "outputs": [
    {
     "data": {
      "image/png": "[encoded data removed]",
      "text/plain": [
       "<matplotlib.figure.Figure at 0x11fb18d30>"
      ]
     },
     "metadata": {},
     "output_type": "display_data"
    }
   ],
   "source": [
    "# plot feature importance using built-in function\n",
    "from xgboost import plot_importance\n",
    "plot_importance(XGB_model)\n",
    "pyplot.show()"
   ]
  },
  {
   "cell_type": "code",
   "execution_count": 29,
   "metadata": {},
   "outputs": [
    {
     "name": "stdout",
     "output_type": "stream",
     "text": [
      "Help on function plot_importance in module xgboost.plotting:\n",
      "\n",
      "plot_importance(booster, ax=None, height=0.2, xlim=None, ylim=None, title='Feature importance', xlabel='F score', ylabel='Features', importance_type='weight', max_num_features=None, grid=True, show_values=True, **kwargs)\n",
      "    Plot importance based on fitted trees.\n",
      "    \n",
      "    Parameters\n",
      "    ----------\n",
      "    booster : Booster, XGBModel or dict\n",
      "        Booster or XGBModel instance, or dict taken by Booster.get_fscore()\n",
      "    ax : matplotlib Axes, default None\n",
      "        Target axes instance. If None, new figure and axes will be created.\n",
      "    grid : bool, Turn the axes grids on or off.  Default is True (On).\n",
      "    importance_type : str, default \"weight\"\n",
      "        How the importance is calculated: either \"weight\", \"gain\", or \"cover\"\n",
      "    \n",
      "        * \"weight\" is the number of times a feature appears in a tree\n",
      "        * \"gain\" is the average gain of splits which use the feature\n",
      "        * \"cover\" is the average coverage of splits which use the feature\n",
      "          where coverage is defined as the number of samples affected by the split\n",
      "    max_num_features : int, default None\n",
      "        Maximum number of top features displayed on plot. If None, all features will be displayed.\n",
      "    height : float, default 0.2\n",
      "        Bar height, passed to ax.barh()\n",
      "    xlim : tuple, default None\n",
      "        Tuple passed to axes.xlim()\n",
      "    ylim : tuple, default None\n",
      "        Tuple passed to axes.ylim()\n",
      "    title : str, default \"Feature importance\"\n",
      "        Axes title. To disable, pass None.\n",
      "    xlabel : str, default \"F score\"\n",
      "        X axis title label. To disable, pass None.\n",
      "    ylabel : str, default \"Features\"\n",
      "        Y axis title label. To disable, pass None.\n",
      "    show_values : bool, default True\n",
      "        Show values on plot. To disable, pass False.\n",
      "    kwargs :\n",
      "        Other keywords passed to ax.barh()\n",
      "    \n",
      "    Returns\n",
      "    -------\n",
      "    ax : matplotlib Axes\n",
      "\n"
     ]
    }
   ],
   "source": [
    "help(plot_importance)"
   ]
  },
  {
   "cell_type": "markdown",
   "metadata": {},
   "source": [
    "###  特征选择"
   ]
  },
  {
   "cell_type": "code",
   "execution_count": null,
   "metadata": {},
   "outputs": [],
   "source": []
  }
 ],
 "metadata": {
  "kernelspec": {
   "display_name": "Python 3",
   "language": "python",
   "name": "python3"
  },
  "language_info": {
   "codemirror_mode": {
    "name": "ipython",
    "version": 3
   },
   "file_extension": ".py",
   "mimetype": "text/x-python",
   "name": "python",
   "nbconvert_exporter": "python",
   "pygments_lexer": "ipython3",
   "version": "3.6.2"
  }
 },
 "nbformat": 4,
 "nbformat_minor": 2
}
